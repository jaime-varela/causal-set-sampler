{
 "cells": [
  {
   "cell_type": "markdown",
   "metadata": {},
   "source": [
    "# Introduction"
   ]
  },
  {
   "cell_type": "markdown",
   "metadata": {},
   "source": [
    "This notebook uses julia packages to perform causal set coordinate sprinking for schwarchild.  Similar procedures can be used to sprinkle other space-times."
   ]
  },
  {
   "cell_type": "markdown",
   "metadata": {},
   "source": [
    "## Constructing the Coordinate Density Probability Distribution"
   ]
  },
  {
   "cell_type": "code",
   "execution_count": 1,
   "metadata": {},
   "outputs": [
    {
     "data": {
      "text/plain": [
       "metric_volume_density_jacobian (generic function with 2 methods)"
      ]
     },
     "metadata": {},
     "output_type": "display_data"
    }
   ],
   "source": [
    "include(\"metric_definitions/shwarchild_spherical.jl\")"
   ]
  },
  {
   "cell_type": "code",
   "execution_count": 2,
   "metadata": {},
   "outputs": [
    {
     "data": {
      "text/plain": [
       "4.0"
      ]
     },
     "metadata": {},
     "output_type": "display_data"
    }
   ],
   "source": [
    "schwar_4d = schwarchild_spherical()\n",
    "\n",
    "metric_volume_density([1.6,2.0,3.141592653/2,0.0],schwar_4d)"
   ]
  },
  {
   "cell_type": "code",
   "execution_count": 3,
   "metadata": {},
   "outputs": [
    {
     "data": {
      "text/plain": [
       "(263.89388704371675, 0.04636251736351937)"
      ]
     },
     "metadata": {},
     "output_type": "display_data"
    }
   ],
   "source": [
    "using HCubature\n",
    "\n",
    "lambda_bind = coords -> metric_volume_density(coords,schwar_4d)\n",
    "\n",
    "\n",
    "PI = 3.141592653\n",
    "eps = 1e-6\n",
    "max_evaluations = typemax(Int)\n",
    "a_tol = 0\n",
    "coordinate_lower_bound = [0.0,1.0,0.0,0.0]\n",
    "coordinate_upper_bound = [1.0,4.0,PI,2*PI]\n",
    "\n",
    "metric_normalization, estimated_integral_error = hcubature(lambda_bind, coordinate_lower_bound, coordinate_upper_bound, rtol=sqrt(eps), atol=a_tol, maxevals=max_evaluations, initdiv=1)\n"
   ]
  },
  {
   "cell_type": "code",
   "execution_count": 4,
   "metadata": {},
   "outputs": [
    {
     "data": {
      "text/plain": [
       "263.89388704371675"
      ]
     },
     "metadata": {},
     "output_type": "display_data"
    }
   ],
   "source": [
    "volume_in_bounds = metric_normalization"
   ]
  },
  {
   "cell_type": "code",
   "execution_count": 5,
   "metadata": {},
   "outputs": [
    {
     "data": {
      "text/plain": [
       "#11 (generic function with 1 method)"
      ]
     },
     "metadata": {},
     "output_type": "display_data"
    }
   ],
   "source": [
    "\n",
    "coordinate_sampling_density = coords -> metric_volume_density(coords,schwar_4d)/metric_normalization\n",
    "\n"
   ]
  },
  {
   "cell_type": "code",
   "execution_count": 6,
   "metadata": {},
   "outputs": [
    {
     "data": {
      "text/plain": [
       "#13 (generic function with 1 method)"
      ]
     },
     "metadata": {},
     "output_type": "display_data"
    }
   ],
   "source": [
    "function_to_minimize = coords -> (-1) * (metric_volume_density(coords,schwar_4d)/metric_normalization)\n",
    "\n"
   ]
  },
  {
   "cell_type": "code",
   "execution_count": 7,
   "metadata": {},
   "outputs": [
    {
     "data": {
      "text/plain": [
       " * Status: success\n",
       "\n",
       " * Candidate solution\n",
       "    Final objective value:     -6.063043e-02\n",
       "\n",
       " * Found with\n",
       "    Algorithm:     Fminbox with L-BFGS\n",
       "\n",
       " * Convergence measures\n",
       "    |x - x'|               = 8.62e-08 ≰ 0.0e+00\n",
       "    |x - x'|/|x'|          = 1.61e-08 ≰ 0.0e+00\n",
       "    |f(x) - f(x')|         = 0.00e+00 ≤ 0.0e+00\n",
       "    |f(x) - f(x')|/|f(x')| = 0.00e+00 ≤ 0.0e+00\n",
       "    |g(x)|                 = 8.63e-11 ≤ 1.0e-08\n",
       "\n",
       " * Work counters\n",
       "    Seconds run:   0  (vs limit Inf)\n",
       "    Iterations:    3\n",
       "    f(x) calls:    69\n",
       "    ∇f(x) calls:   69\n"
      ]
     },
     "metadata": {},
     "output_type": "display_data"
    }
   ],
   "source": [
    "# get the location of max values\n",
    "using Optim\n",
    "\n",
    "\n",
    "x0 = (coordinate_lower_bound + coordinate_upper_bound)/2.0\n",
    "\n",
    "sol = optimize(function_to_minimize,coordinate_lower_bound,coordinate_upper_bound, x0)\n"
   ]
  },
  {
   "cell_type": "code",
   "execution_count": 8,
   "metadata": {},
   "outputs": [
    {
     "data": {
      "text/plain": [
       "0.060630430581588776"
      ]
     },
     "metadata": {},
     "output_type": "display_data"
    }
   ],
   "source": [
    "maximum_position = Optim.minimizer(sol)\n",
    "\n",
    "max_probability_density = coordinate_sampling_density(maximum_position)"
   ]
  },
  {
   "cell_type": "code",
   "execution_count": 9,
   "metadata": {},
   "outputs": [
    {
     "data": {
      "text/plain": [
       "(0.060630430581588776, 0.023683761946954925)"
      ]
     },
     "metadata": {},
     "output_type": "display_data"
    }
   ],
   "source": [
    "max_probability_density,coordinate_sampling_density(x0)"
   ]
  },
  {
   "cell_type": "markdown",
   "metadata": {},
   "source": [
    "## Rejection Sampling"
   ]
  },
  {
   "cell_type": "markdown",
   "metadata": {},
   "source": [
    "Here we begin the rejection sampling to obtain the sprinkled points"
   ]
  },
  {
   "cell_type": "code",
   "execution_count": 10,
   "metadata": {},
   "outputs": [
    {
     "data": {
      "text/plain": [
       "random_sampler_uniform (generic function with 2 methods)"
      ]
     },
     "metadata": {},
     "output_type": "display_data"
    }
   ],
   "source": [
    "include(\"probability_utils/rejection_sampler.jl\")"
   ]
  },
  {
   "cell_type": "code",
   "execution_count": 12,
   "metadata": {},
   "outputs": [
    {
     "data": {
      "text/plain": [
       "4-element Vector{Float64}:\n",
       " 0.28953163226751455\n",
       " 2.942059091086171\n",
       " 1.8600702558978401\n",
       " 5.619411896496509"
      ]
     },
     "metadata": {},
     "output_type": "display_data"
    }
   ],
   "source": [
    "random_sampler_uniform(coordinate_sampling_density,\n",
    "                        coordinate_lower_bound,\n",
    "                        coordinate_upper_bound,\n",
    "                        max_probability_density,\n",
    "                        10^2)\n",
    "\n"
   ]
  },
  {
   "cell_type": "code",
   "execution_count": 13,
   "metadata": {},
   "outputs": [
    {
     "data": {
      "text/plain": [
       "264"
      ]
     },
     "metadata": {},
     "output_type": "display_data"
    }
   ],
   "source": [
    "# Set the scaling volume\n",
    "ρ = 1\n",
    "Number_of_points_in_volume = Int64(round(ρ * volume_in_bounds))"
   ]
  },
  {
   "cell_type": "code",
   "execution_count": 14,
   "metadata": {},
   "outputs": [],
   "source": [
    "\n",
    "sprinkled_coordinates = zeros(Number_of_points_in_volume,4)\n",
    "\n",
    "\n",
    "for sprinkle_ind in range(1,Number_of_points_in_volume) \n",
    "    sampled_coordinate = random_sampler_uniform(coordinate_sampling_density,\n",
    "                                    coordinate_lower_bound,\n",
    "                                    coordinate_upper_bound,\n",
    "                                    max_probability_density,\n",
    "                                    10^3)\n",
    "    sprinkled_coordinates[sprinkle_ind,:] = sampled_coordinate\n",
    "end"
   ]
  },
  {
   "cell_type": "code",
   "execution_count": 15,
   "metadata": {},
   "outputs": [
    {
     "data": {
      "text/plain": [
       "3×4 Matrix{Float64}:\n",
       " 0.276179  2.0315   1.67998   1.87085\n",
       " 0.641938  3.87068  2.27557   1.45416\n",
       " 0.342561  3.37337  0.171359  4.42556"
      ]
     },
     "metadata": {},
     "output_type": "display_data"
    }
   ],
   "source": [
    "sprinkled_coordinates[1:3,:]"
   ]
  },
  {
   "cell_type": "markdown",
   "metadata": {},
   "source": []
  }
 ],
 "metadata": {
  "kernelspec": {
   "display_name": "Julia 1.10.2",
   "language": "julia",
   "name": "julia-1.10"
  },
  "language_info": {
   "file_extension": ".jl",
   "mimetype": "application/julia",
   "name": "julia",
   "version": "1.10.2"
  }
 },
 "nbformat": 4,
 "nbformat_minor": 2
}
